{
 "cells": [
  {
   "cell_type": "code",
   "execution_count": 3,
   "metadata": {},
   "outputs": [],
   "source": [
    "import relationship_analysis\n",
    "\n",
    "results = relationship_analysis.main()"
   ]
  },
  {
   "cell_type": "code",
   "execution_count": 4,
   "metadata": {},
   "outputs": [
    {
     "data": {
      "text/plain": [
       "{'preprocessing': {'calls': {'path': '/home/flaprimo/Development/Workspaces/Python/relationship-analysis/output/fp/preprocessing/cd/calls.csv',\n",
       "   'r_kwargs': {'converters': {'duration': <function pandas.core.tools.timedeltas.to_timedelta>},\n",
       "    'dtype': {'date': str, 'name': str},\n",
       "    'index_col': 'date',\n",
       "    'parse_dates': ['date']},\n",
       "   'type': 'pandas',\n",
       "   'w_kwargs': {'index': False}},\n",
       "  'telegram': {'path': '/home/flaprimo/Development/Workspaces/Python/relationship-analysis/output/fp/preprocessing/cd/telegram.csv',\n",
       "   'r_kwargs': {'converters': {'links': <function pipelines.preprocessing.create_dataframes.CreateDataframes.__init__.<locals>.<lambda>>,\n",
       "     'location': <function pipelines.preprocessing.create_dataframes.CreateDataframes.__init__.<locals>.<lambda>>},\n",
       "    'dtype': {'date': str,\n",
       "     'id': 'uint16',\n",
       "     'image': str,\n",
       "     'reply': 'uint16',\n",
       "     'text': str,\n",
       "     'user': str,\n",
       "     'video': bool},\n",
       "    'index_col': 'date',\n",
       "    'parse_dates': ['date']},\n",
       "   'type': 'pandas',\n",
       "   'w_kwargs': {'index': False}},\n",
       "  'whatsapp': {'path': '/home/flaprimo/Development/Workspaces/Python/relationship-analysis/output/fp/preprocessing/cd/whatsapp.csv',\n",
       "   'r_kwargs': {'converters': {'links': <function pipelines.preprocessing.create_dataframes.CreateDataframes.__init__.<locals>.<lambda>>},\n",
       "    'dtype': {'date': str, 'media': bool, 'text': str, 'user': str},\n",
       "    'index_col': 'date',\n",
       "    'parse_dates': ['date']},\n",
       "   'type': 'pandas',\n",
       "   'w_kwargs': {'index': False}}}}"
      ]
     },
     "execution_count": 4,
     "metadata": {},
     "output_type": "execute_result"
    }
   ],
   "source": [
    "results"
   ]
  },
  {
   "cell_type": "code",
   "execution_count": 6,
   "metadata": {},
   "outputs": [],
   "source": [
    "from datasources import PipelineIO\n",
    "ds = PipelineIO.load_input(['calls', 'telegram', 'whatsapp'], None, results)"
   ]
  },
  {
   "cell_type": "code",
   "execution_count": 7,
   "metadata": {},
   "outputs": [
    {
     "data": {
      "text/plain": [
       "{}"
      ]
     },
     "execution_count": 7,
     "metadata": {},
     "output_type": "execute_result"
    }
   ],
   "source": [
    "ds"
   ]
  },
  {
   "cell_type": "code",
   "execution_count": null,
   "metadata": {},
   "outputs": [],
   "source": []
  }
 ],
 "metadata": {
  "kernelspec": {
   "display_name": "Python 3",
   "language": "python",
   "name": "python3"
  },
  "language_info": {
   "codemirror_mode": {
    "name": "ipython",
    "version": 3
   },
   "file_extension": ".py",
   "mimetype": "text/x-python",
   "name": "python",
   "nbconvert_exporter": "python",
   "pygments_lexer": "ipython3",
   "version": "3.6.7"
  }
 },
 "nbformat": 4,
 "nbformat_minor": 1
}
